{
 "cells": [
  {
   "cell_type": "code",
   "execution_count": 94,
   "metadata": {},
   "outputs": [],
   "source": [
    "import cv2\n",
    "import glob\n",
    "import os\n",
    "import matplotlib.pyplot as plt\n",
    "import numpy as np\n",
    "from PIL import Image\n",
    "from IPython.display import display\n",
    "from skimage.draw import line\n",
    "\n"
   ]
  },
  {
   "cell_type": "markdown",
   "metadata": {},
   "source": [
    "# read data"
   ]
  },
  {
   "cell_type": "code",
   "execution_count": 4,
   "metadata": {},
   "outputs": [],
   "source": [
    "dataset_dir = \"/home/vladushked/Documents/data/leolab_grasping_dataset/plastic/bottles\"\n",
    "\n",
    "background_path = os.path.join(dataset_dir, \"background.png\")\n",
    "\n",
    "rgbs = glob.glob(os.path.join(dataset_dir, \"pcd????r.png\"))\n",
    "depths = glob.glob(os.path.join(dataset_dir, \"pcd????d.tiff\"))\n",
    "poss = glob.glob(os.path.join(dataset_dir, \"pcd????cpos.txt\"))\n",
    "bboxes = glob.glob(os.path.join(dataset_dir, \"pcd????bbox.txt\"))\n",
    "contours = glob.glob(os.path.join(dataset_dir, \"pcd????cont.txt\"))\n",
    "meanlines = glob.glob(os.path.join(dataset_dir, \"pcd????meanline.txt\"))\n",
    "minboxes = glob.glob(os.path.join(dataset_dir, \"pcd????minbox.txt\"))\n",
    "\n",
    "rgbs.sort()\n",
    "depths.sort()\n",
    "poss.sort()\n",
    "bboxes.sort()\n",
    "contours.sort()\n",
    "meanlines.sort()\n",
    "minboxes.sort()"
   ]
  },
  {
   "cell_type": "markdown",
   "metadata": {},
   "source": [
    "# Visualize"
   ]
  },
  {
   "cell_type": "code",
   "execution_count": 7,
   "metadata": {},
   "outputs": [],
   "source": [
    "i = 0\n",
    "colors = [list(np.random.random(size=3) * 256) for _ in range(20)]"
   ]
  },
  {
   "cell_type": "code",
   "execution_count": 72,
   "metadata": {},
   "outputs": [
    {
     "name": "stdout",
     "output_type": "stream",
     "text": [
      "RGB:  pcd0001r.png\n"
     ]
    }
   ],
   "source": [
    "rgb = cv2.imread(rgbs[i])\n",
    "rgb = cv2.cvtColor(rgb, cv2.COLOR_BGR2RGB) \n",
    "print(\"RGB: \", os.path.split(rgbs[i])[-1])\n",
    "\n",
    "depth = Image.open(depths[i])\n",
    "# im.show()\n",
    "depth = np.array(depth)\n",
    "\n",
    "rows,cols = rgb.shape[:2]\n",
    "\n",
    "pos_points = np.genfromtxt(poss[i], dtype=\"float\")\n",
    "pos_points = pos_points.reshape(-1, 4, 2).astype(int)\n",
    "\n",
    "bbox = np.genfromtxt(bboxes[i], dtype=\"int\")\n",
    "contour = np.genfromtxt(contours[i], dtype=\"int\")\n",
    "[vx,vy,x,y] = np.genfromtxt(meanlines[i], dtype=\"float\")\n",
    "minbox = np.genfromtxt(minboxes[i], dtype=\"int\")\n"
   ]
  },
  {
   "cell_type": "code",
   "execution_count": 82,
   "metadata": {},
   "outputs": [],
   "source": [
    "def crop_bbox(img,bbox,margin=50):\n",
    "    img = img.copy()\n",
    "    [left, top] = bbox[0] - margin\n",
    "    [right, bottom] = bbox[1] + margin\n",
    "    return img[top:bottom, left:right]"
   ]
  },
  {
   "cell_type": "code",
   "execution_count": 83,
   "metadata": {},
   "outputs": [],
   "source": [
    "def normalize(depth):\n",
    "    copy = depth.copy()\n",
    "    return (copy - np.min(copy)) / (np.max(copy) - np.min(copy))"
   ]
  },
  {
   "cell_type": "code",
   "execution_count": 112,
   "metadata": {},
   "outputs": [
    {
     "name": "stdout",
     "output_type": "stream",
     "text": [
      "Depth max min:  31.039001 0.0\n",
      "Depth normalized max min:  1.0 0.0\n",
      "Depth cropped normalized max min:  1.0 0.0\n"
     ]
    },
    {
     "ename": "error",
     "evalue": "OpenCV(4.5.4) :-1: error: (-5:Bad argument) in function 'pointPolygonTest'\n> Overload resolution failed:\n>  - Can't parse 'pt'. Sequence item with index 0 has a wrong type\n>  - Can't parse 'pt'. Sequence item with index 0 has a wrong type\n",
     "output_type": "error",
     "traceback": [
      "\u001b[0;31m---------------------------------------------------------------------------\u001b[0m",
      "\u001b[0;31merror\u001b[0m                                     Traceback (most recent call last)",
      "\u001b[0;32m/tmp/ipykernel_13303/1176490181.py\u001b[0m in \u001b[0;36m<module>\u001b[0;34m\u001b[0m\n\u001b[1;32m     21\u001b[0m \u001b[0;34m\u001b[0m\u001b[0m\n\u001b[1;32m     22\u001b[0m \u001b[0;32mfor\u001b[0m \u001b[0mpt\u001b[0m \u001b[0;32min\u001b[0m \u001b[0mzip\u001b[0m\u001b[0;34m(\u001b[0m\u001b[0;34m*\u001b[0m\u001b[0mline\u001b[0m\u001b[0;34m(\u001b[0m\u001b[0mcols\u001b[0m\u001b[0;34m-\u001b[0m\u001b[0;36m1\u001b[0m\u001b[0;34m,\u001b[0m\u001b[0mrighty\u001b[0m\u001b[0;34m,\u001b[0m\u001b[0;36m0\u001b[0m\u001b[0;34m,\u001b[0m\u001b[0mlefty\u001b[0m\u001b[0;34m)\u001b[0m\u001b[0;34m)\u001b[0m\u001b[0;34m:\u001b[0m\u001b[0;34m\u001b[0m\u001b[0;34m\u001b[0m\u001b[0m\n\u001b[0;32m---> 23\u001b[0;31m     \u001b[0;32mif\u001b[0m \u001b[0mcv2\u001b[0m\u001b[0;34m.\u001b[0m\u001b[0mpointPolygonTest\u001b[0m\u001b[0;34m(\u001b[0m\u001b[0mcontour\u001b[0m\u001b[0;34m,\u001b[0m \u001b[0mpt\u001b[0m\u001b[0;34m,\u001b[0m \u001b[0;32mFalse\u001b[0m\u001b[0;34m)\u001b[0m \u001b[0;34m==\u001b[0m \u001b[0;36m0\u001b[0m\u001b[0;34m:\u001b[0m  \u001b[0;31m# If the point is on the contour\u001b[0m\u001b[0;34m\u001b[0m\u001b[0;34m\u001b[0m\u001b[0m\n\u001b[0m\u001b[1;32m     24\u001b[0m         \u001b[0mcv2\u001b[0m\u001b[0;34m.\u001b[0m\u001b[0mcircle\u001b[0m\u001b[0;34m(\u001b[0m\u001b[0mrgb_copy\u001b[0m\u001b[0;34m,\u001b[0m \u001b[0mpt\u001b[0m\u001b[0;34m,\u001b[0m \u001b[0;36m2\u001b[0m\u001b[0;34m,\u001b[0m \u001b[0;34m(\u001b[0m\u001b[0;36m0\u001b[0m\u001b[0;34m,\u001b[0m \u001b[0;36m0\u001b[0m\u001b[0;34m,\u001b[0m \u001b[0;36m255\u001b[0m\u001b[0;34m)\u001b[0m\u001b[0;34m,\u001b[0m \u001b[0;36m2\u001b[0m\u001b[0;34m)\u001b[0m\u001b[0;34m\u001b[0m\u001b[0;34m\u001b[0m\u001b[0m\n\u001b[1;32m     25\u001b[0m \u001b[0;34m\u001b[0m\u001b[0m\n",
      "\u001b[0;31merror\u001b[0m: OpenCV(4.5.4) :-1: error: (-5:Bad argument) in function 'pointPolygonTest'\n> Overload resolution failed:\n>  - Can't parse 'pt'. Sequence item with index 0 has a wrong type\n>  - Can't parse 'pt'. Sequence item with index 0 has a wrong type\n"
     ]
    }
   ],
   "source": [
    "rgb_copy = rgb.copy()\n",
    "depth_copy = depth.copy()\n",
    "normalized_depth = normalize(depth_copy)\n",
    "cropped_normalized_depth = normalize(crop_bbox(depth_copy, bbox))\n",
    "\n",
    "print(\"Depth max min: \", depth_copy.max(), depth_copy.min())\n",
    "print(\"Depth normalized max min: \", normalized_depth.max(), normalized_depth.min())\n",
    "print(\"Depth cropped normalized max min: \", cropped_normalized_depth.max(), cropped_normalized_depth.min())\n",
    "\n",
    "for i, rect in enumerate(pos_points):\n",
    "    cv2.drawContours(rgb_copy, [rect], 0, color=colors[i], thickness=4)\n",
    "\n",
    "cv2.rectangle(rgb_copy,(bbox[0]),(bbox[1]),(0,255,0),2)\n",
    "\n",
    "cv2.drawContours(rgb_copy, [contour], -1, (255, 0, 255), 2)\n",
    "cv2.drawContours(rgb_copy,[minbox],0,(255,0,0),2, cv2.FILLED)\n",
    "\n",
    "lefty = int((-x*vy/vx) + y)\n",
    "righty = int(((cols-x)*vy/vx)+y)\n",
    "cv2.line(rgb_copy,(cols-1,righty),(0,lefty),(255,255,0),2)\n",
    "\n",
    "for pt in zip(*line(cols-1,righty,0,lefty)):\n",
    "    if cv2.pointPolygonTest(contour, pt, False) == 0:  # If the point is on the contour\n",
    "        cv2.circle(rgb_copy, pt, 2, (0, 0, 255), 2)\n",
    "\n",
    "\n",
    "cropped_rgb = crop_bbox(rgb_copy, bbox)\n",
    "\n",
    "fig, axes = plt.subplots(nrows=3, ncols=2, figsize=(15,15))\n",
    "\n",
    "axes[0,0].imshow(rgb)\n",
    "axes[0,1].imshow(rgb_copy)\n",
    "axes[1,0].imshow(depth)\n",
    "axes[1,1].imshow(normalized_depth)\n",
    "axes[2,0].imshow(cropped_rgb)\n",
    "plot = axes[2,1].imshow(cropped_normalized_depth)\n",
    "plt.colorbar(plot)"
   ]
  },
  {
   "cell_type": "markdown",
   "metadata": {},
   "source": [
    "# generate grasps"
   ]
  },
  {
   "cell_type": "code",
   "execution_count": 106,
   "metadata": {},
   "outputs": [
    {
     "data": {
      "text/plain": [
       "[0.078102, -0.996945, 641.864075, 403.951477]"
      ]
     },
     "execution_count": 106,
     "metadata": {},
     "output_type": "execute_result"
    }
   ],
   "source": [
    "[vx,vy,x,y]"
   ]
  },
  {
   "cell_type": "code",
   "execution_count": 108,
   "metadata": {},
   "outputs": [
    {
     "data": {
      "text/plain": [
       "-7741.632755786932"
      ]
     },
     "execution_count": 108,
     "metadata": {},
     "output_type": "execute_result"
    }
   ],
   "source": [
    "((cols-x)*vy/vx)+y"
   ]
  },
  {
   "cell_type": "code",
   "execution_count": 97,
   "metadata": {},
   "outputs": [
    {
     "data": {
      "text/plain": [
       "(array([1279, 1279, 1279, ...,    0,    0,    0]),\n",
       " array([-7741, -7740, -7739, ...,  8595,  8596,  8597]))"
      ]
     },
     "execution_count": 97,
     "metadata": {},
     "output_type": "execute_result"
    }
   ],
   "source": [
    "line(cols-1,righty,0,lefty)"
   ]
  },
  {
   "cell_type": "code",
   "execution_count": 109,
   "metadata": {},
   "outputs": [
    {
     "data": {
      "text/plain": [
       "((1279, -7741), (0, 8597))"
      ]
     },
     "execution_count": 109,
     "metadata": {},
     "output_type": "execute_result"
    }
   ],
   "source": [
    "(cols-1,righty),(0,lefty)"
   ]
  },
  {
   "cell_type": "code",
   "execution_count": 121,
   "metadata": {},
   "outputs": [],
   "source": [
    "pt = (1279, -7741)"
   ]
  },
  {
   "cell_type": "code",
   "execution_count": 122,
   "metadata": {},
   "outputs": [
    {
     "data": {
      "text/plain": [
       "-1.0"
      ]
     },
     "execution_count": 122,
     "metadata": {},
     "output_type": "execute_result"
    }
   ],
   "source": []
  },
  {
   "cell_type": "code",
   "execution_count": 130,
   "metadata": {},
   "outputs": [
    {
     "name": "stdout",
     "output_type": "stream",
     "text": [
      "(1279, -7741)\n",
      "<class 'tuple'>\n",
      "-1.0\n"
     ]
    }
   ],
   "source": [
    "for pt in zip(*line(cols-1,righty,0,lefty)):\n",
    "    print(pt)\n",
    "    print(type(pt))\n",
    "    print(cv2.pointPolygonTest(contour, (int(pt[0]), int(pt[1])), False))\n",
    "    break"
   ]
  },
  {
   "cell_type": "code",
   "execution_count": null,
   "metadata": {},
   "outputs": [],
   "source": []
  }
 ],
 "metadata": {
  "interpreter": {
   "hash": "1c43b035c4b9b3af2b8bcc3fd0eef2e1dae6ba45ebd4d37928a5d33d50c1e332"
  },
  "kernelspec": {
   "display_name": "Python 3.8.10 ('rl')",
   "language": "python",
   "name": "python3"
  },
  "language_info": {
   "codemirror_mode": {
    "name": "ipython",
    "version": 3
   },
   "file_extension": ".py",
   "mimetype": "text/x-python",
   "name": "python",
   "nbconvert_exporter": "python",
   "pygments_lexer": "ipython3",
   "version": "3.8.10"
  },
  "orig_nbformat": 4
 },
 "nbformat": 4,
 "nbformat_minor": 2
}
